{
 "cells": [
  {
   "cell_type": "code",
   "execution_count": 35,
   "id": "898baf40-fd88-4a73-81b1-7982bc8729f2",
   "metadata": {},
   "outputs": [],
   "source": [
    "import os\n",
    "import tensorflow as tf"
   ]
  },
  {
   "cell_type": "code",
   "execution_count": 36,
   "id": "f2dc57e5-35c2-445e-aa32-fdfa7ada4b42",
   "metadata": {},
   "outputs": [
    {
     "name": "stdout",
     "output_type": "stream",
     "text": [
      "/mnt/c/Users/mateo/OneDrive/Desktop/Projects/_Birdsong/CatDogOrNeither_v2/backend/app/src/utils\n"
     ]
    }
   ],
   "source": [
    "print(os.getcwd())"
   ]
  },
  {
   "cell_type": "code",
   "execution_count": 37,
   "id": "76a4b00e-e461-4e03-9c0a-52c4948e2da1",
   "metadata": {},
   "outputs": [],
   "source": [
    "os.chdir(\"/mnt/c/Users/mateo/OneDrive/Desktop/Projects/_Birdsong/CatDogOrNeither_v2/backend/app/src/utils\")"
   ]
  },
  {
   "cell_type": "code",
   "execution_count": 38,
   "id": "a12332a7-4fa5-49ff-9192-7b6f3b60819c",
   "metadata": {},
   "outputs": [],
   "source": [
    "#constants\n",
    "BASE_DIR = \"../../data/\"\n",
    "IMAGE_SIZE = (500,500)\n",
    "BATCH_SIZE = 32\n",
    "LABEL_MODE = \"categorical\"\n",
    "\n",
    "\n",
    "\n",
    "#utility function to create datasets\n",
    "def create_dataset(directory, image_size = IMAGE_SIZE, batch_size = BATCH_SIZE, label_mode = LABEL_MODE, shuffle = True):\n",
    "    \n",
    "    #arguments\n",
    "\n",
    "    #directory (str): path to the dataset directory\n",
    "    #image_size (tuple): dimensions of iamge (height/width)\n",
    "    #batch_size (int): number of images per batch\n",
    "    #label_mode (str): label encoding format('categorical', 'binary', or None)\n",
    "    #shuffle (bool): whether or not to shuffle data\n",
    "#returns:\n",
    "    #tf.data.Dataset: A prepared dataset for training or evaluation\n",
    "\n",
    "\n",
    "    return tf.keras.preprocessing.image_dataset_from_directory(\n",
    "        directory,\n",
    "        image_size = image_size,\n",
    "        batch_size = batch_size,\n",
    "        label_mode = label_mode,\n",
    "        shuffle = shuffle\n",
    "    )"
   ]
  },
  {
   "cell_type": "code",
   "execution_count": 39,
   "id": "fdb313b0-a614-4751-990b-7e299b2bfd6f",
   "metadata": {},
   "outputs": [],
   "source": [
    "dir = \"../../data/test\""
   ]
  },
  {
   "cell_type": "code",
   "execution_count": 40,
   "id": "516a5bbf-7be1-4ab3-935a-8fa051a610c5",
   "metadata": {},
   "outputs": [
    {
     "name": "stdout",
     "output_type": "stream",
     "text": [
      "Found 164 files belonging to 2 classes.\n"
     ]
    }
   ],
   "source": [
    "test_dataset = create_dataset(dir)"
   ]
  },
  {
   "cell_type": "code",
   "execution_count": 41,
   "id": "53b2f1c2-b256-4913-833b-e6725b9ccf99",
   "metadata": {},
   "outputs": [
    {
     "name": "stdout",
     "output_type": "stream",
     "text": [
      "<_BatchDataset element_spec=(TensorSpec(shape=(None, 500, 500, 3), dtype=tf.float32, name=None), TensorSpec(shape=(None, 2), dtype=tf.float32, name=None))>\n"
     ]
    }
   ],
   "source": [
    "print(test_dataset)"
   ]
  },
  {
   "cell_type": "code",
   "execution_count": null,
   "id": "2bac6618-e6ce-4840-88f8-efbbcdd630ab",
   "metadata": {},
   "outputs": [],
   "source": []
  }
 ],
 "metadata": {
  "kernelspec": {
   "display_name": "Python 3 (ipykernel)",
   "language": "python",
   "name": "python3"
  },
  "language_info": {
   "codemirror_mode": {
    "name": "ipython",
    "version": 3
   },
   "file_extension": ".py",
   "mimetype": "text/x-python",
   "name": "python",
   "nbconvert_exporter": "python",
   "pygments_lexer": "ipython3",
   "version": "3.8.10"
  }
 },
 "nbformat": 4,
 "nbformat_minor": 5
}
