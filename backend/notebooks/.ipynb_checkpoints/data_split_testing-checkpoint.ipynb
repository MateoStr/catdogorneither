{
 "cells": [
  {
   "cell_type": "code",
   "execution_count": 23,
   "id": "013c2ecb-064b-48a8-8b8d-3f801ed68240",
   "metadata": {},
   "outputs": [],
   "source": [
    "import os\n",
    "import shutil\n",
    "import random"
   ]
  },
  {
   "cell_type": "code",
   "execution_count": null,
   "id": "20a00ca1-97f3-45d4-9fbe-b69b883a811d",
   "metadata": {},
   "outputs": [],
   "source": []
  },
  {
   "cell_type": "code",
   "execution_count": 24,
   "id": "da1b6b3d-eb22-4659-96c8-1fd251be26cc",
   "metadata": {},
   "outputs": [
    {
     "name": "stdout",
     "output_type": "stream",
     "text": [
      "/mnt/c/Users/mateo/OneDrive/Desktop/Projects/_Birdsong/CatDogOrNeither_v2/backend/app/src/utils\n"
     ]
    }
   ],
   "source": [
    "print(os.getcwd())"
   ]
  },
  {
   "cell_type": "code",
   "execution_count": null,
   "id": "d8399115-2fe7-4345-9493-6105058e50d4",
   "metadata": {},
   "outputs": [],
   "source": []
  },
  {
   "cell_type": "code",
   "execution_count": 25,
   "id": "b320cc5b-e2b7-4b68-8d5a-66d9a09005f8",
   "metadata": {},
   "outputs": [
    {
     "ename": "NameError",
     "evalue": "name 'BASE_DIR' is not defined",
     "output_type": "error",
     "traceback": [
      "\u001b[0;31m---------------------------------------------------------------------------\u001b[0m",
      "\u001b[0;31mNameError\u001b[0m                                 Traceback (most recent call last)",
      "Cell \u001b[0;32mIn[25], line 1\u001b[0m\n\u001b[0;32m----> 1\u001b[0m \u001b[38;5;28mprint\u001b[39m(\u001b[43mBASE_DIR\u001b[49m)\n",
      "\u001b[0;31mNameError\u001b[0m: name 'BASE_DIR' is not defined"
     ]
    }
   ],
   "source": []
  },
  {
   "cell_type": "code",
   "execution_count": 27,
   "id": "6c806c88-516f-429e-ae26-7e0284606b4e",
   "metadata": {},
   "outputs": [],
   "source": [
    "\n",
    "os.chdir(\"/mnt/c/Users/mateo/OneDrive/Desktop/Projects/_Birdsong/CatDogOrNeither_v2/backend/app/src/utils\")\n",
    "\n"
   ]
  },
  {
   "cell_type": "code",
   "execution_count": 28,
   "id": "dae843eb-3403-4575-8591-e3620fdf69ed",
   "metadata": {},
   "outputs": [],
   "source": [
    "\n",
    "\n",
    "\n",
    "PROCESSED_DIR = \"../../data/processed\"\n",
    "TRAIN_DIR = \"../../data/train\"\n",
    "TEST_DIR = \"../../data/test\"\n",
    "VAL_DIR = \"../../data/val\""
   ]
  },
  {
   "cell_type": "code",
   "execution_count": 29,
   "id": "582dd9a2-8b85-48df-82e9-680869aca81a",
   "metadata": {},
   "outputs": [],
   "source": [
    "\n",
    "# Split ratios\n",
    "TRAIN_RATIO = 0.7\n",
    "TEST_RATIO = 0.15\n",
    "VAL_RATIO = 0.15"
   ]
  },
  {
   "cell_type": "code",
   "execution_count": 49,
   "id": "f8c6dda6-3a95-4d11-86e3-4e0e19098ab5",
   "metadata": {},
   "outputs": [],
   "source": [
    "\n",
    "def split_data():\n",
    "    for label in [\"cat\", \"dog\"]:\n",
    "        category_dir = os.path.join(PROCESSED_DIR, label)\n",
    "        files = os.listdir(category_dir)\n",
    "    \n",
    "        random.shuffle(files)\n",
    "\n",
    "        \n",
    "        total_files = len(files)\n",
    "        train_end = int(total_files * TRAIN_RATIO)\n",
    "        test_end = train_end + int(total_files * TEST_RATIO)\n",
    "\n",
    "       \n",
    "\n",
    "\n",
    "        train_files = files[:train_end]\n",
    "        test_files = files[train_end:test_end]\n",
    "        val_files = files[test_end:]\n",
    "\n",
    "\n",
    "        for file in train_files:\n",
    "            shutil.copy(os.path.join(category_dir, file), os.path.join(TRAIN_DIR, label, file))\n",
    "        for file in test_files:\n",
    "            shutil.copy(os.path.join(category_dir, file), os.path.join(TEST_DIR, label, file))\n",
    "        for file in val_files:\n",
    "            shutil.copy(os.path.join(category_dir, file), os.path.join(VAL_DIR, label, file))\n",
    "        "
   ]
  },
  {
   "cell_type": "code",
   "execution_count": 50,
   "id": "f6202796-6095-429b-845d-9a7df92913c8",
   "metadata": {},
   "outputs": [],
   "source": [
    "split_data()"
   ]
  },
  {
   "cell_type": "code",
   "execution_count": null,
   "id": "e21d82fe-777c-439d-b8ca-6ff9d283e0c7",
   "metadata": {},
   "outputs": [],
   "source": []
  }
 ],
 "metadata": {
  "kernelspec": {
   "display_name": "Python 3 (ipykernel)",
   "language": "python",
   "name": "python3"
  },
  "language_info": {
   "codemirror_mode": {
    "name": "ipython",
    "version": 3
   },
   "file_extension": ".py",
   "mimetype": "text/x-python",
   "name": "python",
   "nbconvert_exporter": "python",
   "pygments_lexer": "ipython3",
   "version": "3.8.10"
  }
 },
 "nbformat": 4,
 "nbformat_minor": 5
}
