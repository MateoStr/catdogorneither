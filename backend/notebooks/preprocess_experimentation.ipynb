{
 "cells": [
  {
   "cell_type": "code",
   "execution_count": 1,
   "id": "dae49588-6101-4f19-a5d2-8fb106521e8a",
   "metadata": {},
   "outputs": [],
   "source": [
    "import os\n",
    "import sys\n",
    "\n",
    "\n",
    "# Add the `src` directory to the Python path\n",
    "sys.path.append('/mnt/c/Users/mateo/OneDrive/Desktop/Projects/_Birdsong/CatDogOrNeither_v2/backend/app/src')\n",
    "\n",
    "# Import functions from the utils module\n",
    "from utils.preprocess import preprocess_single_image, preprocess_all_images\n"
   ]
  },
  {
   "cell_type": "code",
   "execution_count": 2,
   "id": "1f83a87b-2da2-4784-8900-19ad0541b3ac",
   "metadata": {},
   "outputs": [
    {
     "name": "stdout",
     "output_type": "stream",
     "text": [
      "/mnt/c/Users/mateo/OneDrive/Desktop/Projects/_Birdsong/CatDogOrNeither_v2/backend/notebooks\n"
     ]
    }
   ],
   "source": [
    "print(os.getcwd())"
   ]
  },
  {
   "cell_type": "code",
   "execution_count": 3,
   "id": "7e83d544-38f7-4080-8180-0ffd5d2504ab",
   "metadata": {},
   "outputs": [],
   "source": [
    "os.chdir('/mnt/c/Users/mateo/OneDrive/Desktop/Projects/_Birdsong/CatDogOrNeither_v2/backend/app/data/raw')"
   ]
  },
  {
   "cell_type": "code",
   "execution_count": 4,
   "id": "692a2c34-527d-4887-a018-724f1dee92ac",
   "metadata": {},
   "outputs": [
    {
     "name": "stdout",
     "output_type": "stream",
     "text": [
      "['cat.0.jpg', 'cat.1.jpg', 'cat.10.jpg', 'cat.11.jpg', 'cat.12.jpg', 'cat.13.jpg', 'cat.14.jpg', 'cat.15.jpg', 'cat.16.jpg', 'cat.17.jpg', 'cat.18.jpg', 'cat.19.jpg', 'cat.2.jpg', 'cat.20.jpg', 'cat.21.jpg', 'cat.22.jpg', 'cat.23.jpg', 'cat.24.jpg', 'cat.25.jpg', 'cat.26.jpg', 'cat.27.jpg', 'cat.28.jpg', 'cat.29.jpg', 'cat.3.jpg', 'cat.30.jpg', 'cat.31.jpg', 'cat.32.jpg', 'cat.33.jpg', 'cat.34.jpg', 'cat.35.jpg', 'cat.3500.jpg', 'cat.3501.jpg', 'cat.3502.jpg', 'cat.3503.jpg', 'cat.3504.jpg', 'cat.3505.jpg', 'cat.3506.jpg', 'cat.3507.jpg', 'cat.3508.jpg', 'cat.3509.jpg', 'cat.3510.jpg', 'cat.3511.jpg', 'cat.3512.jpg', 'cat.3513.jpg', 'cat.3514.jpg', 'cat.3515.jpg', 'cat.3516.jpg', 'cat.3517.jpg', 'cat.3518.jpg', 'cat.3519.jpg', 'cat.3520.jpg', 'cat.3521.jpg', 'cat.3522.jpg', 'cat.3523.jpg', 'cat.3524.jpg', 'cat.3525.jpg', 'cat.3526.jpg', 'cat.3527.jpg', 'cat.3528.jpg', 'cat.3529.jpg', 'cat.3530.jpg', 'cat.3531.jpg', 'cat.3532.jpg', 'cat.3533.jpg', 'cat.3534.jpg', 'cat.3535.jpg', 'cat.3536.jpg', 'cat.3537.jpg', 'cat.3538.jpg', 'cat.3539.jpg', 'cat.3540.jpg', 'cat.3541.jpg', 'cat.3542.jpg', 'cat.3543.jpg', 'cat.3544.jpg', 'cat.3545.jpg', 'cat.3546.jpg', 'cat.3547.jpg', 'cat.3548.jpg', 'cat.3549.jpg', 'cat.3550.jpg', 'cat.3551.jpg', 'cat.3552.jpg', 'cat.3553.jpg', 'cat.3554.jpg', 'cat.3555.jpg', 'cat.3556.jpg', 'cat.3557.jpg', 'cat.3558.jpg', 'cat.3559.jpg', 'cat.3560.jpg', 'cat.3561.jpg', 'cat.3562.jpg', 'cat.3563.jpg', 'cat.3564.jpg', 'cat.3565.jpg', 'cat.3566.jpg', 'cat.3567.jpg', 'cat.3568.jpg', 'cat.3569.jpg', 'cat.3570.jpg', 'cat.3571.jpg', 'cat.3572.jpg', 'cat.3573.jpg', 'cat.3574.jpg', 'cat.3575.jpg', 'cat.3576.jpg', 'cat.3577.jpg', 'cat.3578.jpg', 'cat.3579.jpg', 'cat.3580.jpg', 'cat.3581.jpg', 'cat.3582.jpg', 'cat.3583.jpg', 'cat.3584.jpg', 'cat.3585.jpg', 'cat.3586.jpg', 'cat.3587.jpg', 'cat.3588.jpg', 'cat.3589.jpg', 'cat.3590.jpg', 'cat.3591.jpg', 'cat.3592.jpg', 'cat.3593.jpg', 'cat.3594.jpg', 'cat.3595.jpg', 'cat.3596.jpg', 'cat.3597.jpg', 'cat.3598.jpg', 'cat.3599.jpg', 'cat.36.jpg', 'cat.3600.jpg', 'cat.3601.jpg', 'cat.3602.jpg', 'cat.3603.jpg', 'cat.3604.jpg', 'cat.3605.jpg', 'cat.3606.jpg', 'cat.3607.jpg', 'cat.3608.jpg', 'cat.3609.jpg', 'cat.3610.jpg', 'cat.3611.jpg', 'cat.3612.jpg', 'cat.3613.jpg', 'cat.3614.jpg', 'cat.3615.jpg', 'cat.3616.jpg', 'cat.3617.jpg', 'cat.3618.jpg', 'cat.3619.jpg', 'cat.3620.jpg', 'cat.3621.jpg', 'cat.3622.jpg', 'cat.3623.jpg', 'cat.3624.jpg', 'cat.3625.jpg', 'cat.3626.jpg', 'cat.3627.jpg', 'cat.3628.jpg', 'cat.3629.jpg', 'cat.3630.jpg', 'cat.3631.jpg', 'cat.3632.jpg', 'cat.3633.jpg', 'cat.3634.jpg', 'cat.3635.jpg', 'cat.3636.jpg', 'cat.3637.jpg', 'cat.3638.jpg', 'cat.3639.jpg', 'cat.3640.jpg', 'cat.3641.jpg', 'cat.3642.jpg', 'cat.3643.jpg', 'cat.3644.jpg', 'cat.3645.jpg', 'cat.3646.jpg', 'cat.3647.jpg', 'cat.3648.jpg', 'cat.3649.jpg', 'cat.3650.jpg', 'cat.3651.jpg', 'cat.3652.jpg', 'cat.3653.jpg', 'cat.3654.jpg', 'cat.3655.jpg', 'cat.3656.jpg', 'cat.3657.jpg', 'cat.3658.jpg', 'cat.3659.jpg', 'cat.3660.jpg', 'cat.3661.jpg', 'cat.3662.jpg', 'cat.3663.jpg', 'cat.3664.jpg', 'cat.3665.jpg', 'cat.3666.jpg', 'cat.3667.jpg', 'cat.3668.jpg', 'cat.3669.jpg', 'cat.3670.jpg', 'cat.3671.jpg', 'cat.3672.jpg', 'cat.3673.jpg', 'cat.3674.jpg', 'cat.3675.jpg', 'cat.3676.jpg', 'cat.3677.jpg', 'cat.3678.jpg', 'cat.3679.jpg', 'cat.3680.jpg', 'cat.3681.jpg', 'cat.3682.jpg', 'cat.3683.jpg', 'cat.3684.jpg', 'cat.3685.jpg', 'cat.3686.jpg', 'cat.3687.jpg', 'cat.3688.jpg', 'cat.3689.jpg', 'cat.3690.jpg', 'cat.3691.jpg', 'cat.3692.jpg', 'cat.3693.jpg', 'cat.3694.jpg', 'cat.3695.jpg', 'cat.3696.jpg', 'cat.3697.jpg', 'cat.3698.jpg', 'cat.3699.jpg', 'cat.37.jpg', 'cat.3700.jpg', 'cat.3701.jpg', 'cat.3702.jpg', 'cat.3703.jpg', 'cat.3704.jpg', 'cat.3705.jpg', 'cat.3706.jpg', 'cat.3707.jpg', 'cat.3708.jpg', 'cat.3709.jpg', 'cat.3710.jpg', 'cat.3711.jpg', 'cat.3712.jpg', 'cat.3713.jpg', 'cat.3714.jpg', 'cat.3715.jpg', 'cat.3716.jpg', 'cat.3717.jpg', 'cat.3718.jpg', 'cat.3719.jpg', 'cat.3720.jpg', 'cat.3721.jpg', 'cat.3722.jpg', 'cat.3723.jpg', 'cat.3724.jpg', 'cat.3725.jpg', 'cat.3726.jpg', 'cat.3727.jpg', 'cat.3728.jpg', 'cat.3729.jpg', 'cat.3730.jpg', 'cat.3731.jpg', 'cat.3732.jpg', 'cat.3733.jpg', 'cat.3734.jpg', 'cat.3735.jpg', 'cat.3736.jpg', 'cat.3737.jpg', 'cat.3738.jpg', 'cat.3739.jpg', 'cat.3740.jpg', 'cat.3741.jpg', 'cat.3742.jpg', 'cat.3743.jpg', 'cat.3744.jpg', 'cat.3745.jpg', 'cat.3746.jpg', 'cat.3747.jpg', 'cat.3748.jpg', 'cat.3749.jpg', 'cat.3750.jpg', 'cat.3751.jpg', 'cat.3752.jpg', 'cat.3753.jpg', 'cat.3754.jpg', 'cat.3755.jpg', 'cat.3756.jpg', 'cat.3757.jpg', 'cat.3758.jpg', 'cat.3759.jpg', 'cat.3760.jpg', 'cat.3761.jpg', 'cat.3762.jpg', 'cat.3763.jpg', 'cat.3764.jpg', 'cat.3765.jpg', 'cat.3766.jpg', 'cat.3767.jpg', 'cat.3768.jpg', 'cat.3769.jpg', 'cat.3770.jpg', 'cat.3771.jpg', 'cat.3772.jpg', 'cat.3773.jpg', 'cat.3774.jpg', 'cat.3775.jpg', 'cat.3776.jpg', 'cat.3777.jpg', 'cat.3778.jpg', 'cat.3779.jpg', 'cat.3780.jpg', 'cat.3781.jpg', 'cat.3782.jpg', 'cat.3783.jpg', 'cat.3784.jpg', 'cat.3785.jpg', 'cat.3786.jpg', 'cat.3787.jpg', 'cat.3788.jpg', 'cat.3789.jpg', 'cat.3790.jpg', 'cat.3791.jpg', 'cat.3792.jpg', 'cat.3793.jpg', 'cat.3794.jpg', 'cat.3795.jpg', 'cat.3796.jpg', 'cat.3797.jpg', 'cat.3798.jpg', 'cat.3799.jpg', 'cat.38.jpg', 'cat.3800.jpg', 'cat.3801.jpg', 'cat.3802.jpg', 'cat.3803.jpg', 'cat.3804.jpg', 'cat.3805.jpg', 'cat.3806.jpg', 'cat.3807.jpg', 'cat.3808.jpg', 'cat.3809.jpg', 'cat.3810.jpg', 'cat.3811.jpg', 'cat.3812.jpg', 'cat.3813.jpg', 'cat.3814.jpg', 'cat.3815.jpg', 'cat.3816.jpg', 'cat.3817.jpg', 'cat.3818.jpg', 'cat.3819.jpg', 'cat.3820.jpg', 'cat.3821.jpg', 'cat.3822.jpg', 'cat.3823.jpg', 'cat.3824.jpg', 'cat.3825.jpg', 'cat.3826.jpg', 'cat.3827.jpg', 'cat.3828.jpg', 'cat.3829.jpg', 'cat.3830.jpg', 'cat.3831.jpg', 'cat.3832.jpg', 'cat.3833.jpg', 'cat.3834.jpg', 'cat.3835.jpg', 'cat.3836.jpg', 'cat.3837.jpg', 'cat.3838.jpg', 'cat.3839.jpg', 'cat.3840.jpg', 'cat.3841.jpg', 'cat.3842.jpg', 'cat.3843.jpg', 'cat.3844.jpg', 'cat.3845.jpg', 'cat.3846.jpg', 'cat.3847.jpg', 'cat.3848.jpg', 'cat.3849.jpg', 'cat.3850.jpg', 'cat.3851.jpg', 'cat.3852.jpg', 'cat.3853.jpg', 'cat.3854.jpg', 'cat.3855.jpg', 'cat.3856.jpg', 'cat.3857.jpg', 'cat.3858.jpg', 'cat.3859.jpg', 'cat.3860.jpg', 'cat.3861.jpg', 'cat.3862.jpg', 'cat.3863.jpg', 'cat.3864.jpg', 'cat.3865.jpg', 'cat.3866.jpg', 'cat.3867.jpg', 'cat.3868.jpg', 'cat.3869.jpg', 'cat.3870.jpg', 'cat.3871.jpg', 'cat.3872.jpg', 'cat.3873.jpg', 'cat.3874.jpg', 'cat.3875.jpg', 'cat.3876.jpg', 'cat.3877.jpg', 'cat.3878.jpg', 'cat.3879.jpg', 'cat.3880.jpg', 'cat.3881.jpg', 'cat.3882.jpg', 'cat.3883.jpg', 'cat.3884.jpg', 'cat.3885.jpg', 'cat.3886.jpg', 'cat.3887.jpg', 'cat.3888.jpg', 'cat.3889.jpg', 'cat.3890.jpg', 'cat.3891.jpg', 'cat.3892.jpg', 'cat.3893.jpg', 'cat.3894.jpg', 'cat.3895.jpg', 'cat.3896.jpg', 'cat.3897.jpg', 'cat.3898.jpg', 'cat.3899.jpg', 'cat.39.jpg', 'cat.3900.jpg', 'cat.3901.jpg', 'cat.3902.jpg', 'cat.3903.jpg', 'cat.3904.jpg', 'cat.3905.jpg', 'cat.3906.jpg', 'cat.3907.jpg', 'cat.3908.jpg', 'cat.3909.jpg', 'cat.3910.jpg', 'cat.3911.jpg', 'cat.3912.jpg', 'cat.3913.jpg', 'cat.3914.jpg', 'cat.3915.jpg', 'cat.3916.jpg', 'cat.3917.jpg', 'cat.3918.jpg', 'cat.3919.jpg', 'cat.3920.jpg', 'cat.3921.jpg', 'cat.3922.jpg', 'cat.3923.jpg', 'cat.3924.jpg', 'cat.3925.jpg', 'cat.3926.jpg', 'cat.3927.jpg', 'cat.3928.jpg', 'cat.3929.jpg', 'cat.3930.jpg', 'cat.3931.jpg', 'cat.3932.jpg', 'cat.3933.jpg', 'cat.3934.jpg', 'cat.3935.jpg', 'cat.3936.jpg', 'cat.3937.jpg', 'cat.3938.jpg', 'cat.3939.jpg', 'cat.3940.jpg', 'cat.3941.jpg', 'cat.3942.jpg', 'cat.3943.jpg', 'cat.3944.jpg', 'cat.3945.jpg', 'cat.3946.jpg', 'cat.3947.jpg', 'cat.3948.jpg', 'cat.3949.jpg', 'cat.3950.jpg', 'cat.3951.jpg', 'cat.3952.jpg', 'cat.3953.jpg', 'cat.3954.jpg', 'cat.3955.jpg', 'cat.3956.jpg', 'cat.3957.jpg', 'cat.3958.jpg', 'cat.3959.jpg', 'cat.3960.jpg', 'cat.3961.jpg', 'cat.3962.jpg', 'cat.3963.jpg', 'cat.3964.jpg', 'cat.3965.jpg', 'cat.3966.jpg', 'cat.3967.jpg', 'cat.3968.jpg', 'cat.3969.jpg', 'cat.3970.jpg', 'cat.3971.jpg', 'cat.3972.jpg', 'cat.3973.jpg', 'cat.3974.jpg', 'cat.3975.jpg', 'cat.3976.jpg', 'cat.3977.jpg', 'cat.3978.jpg', 'cat.3979.jpg', 'cat.3980.jpg', 'cat.3981.jpg', 'cat.3982.jpg', 'cat.3983.jpg', 'cat.3984.jpg', 'cat.3985.jpg', 'cat.3986.jpg', 'cat.3987.jpg', 'cat.3988.jpg', 'cat.3989.jpg', 'cat.3990.jpg', 'cat.3991.jpg', 'cat.3992.jpg', 'cat.3993.jpg', 'cat.3994.jpg', 'cat.3995.jpg', 'cat.3996.jpg', 'cat.3997.jpg', 'cat.3998.jpg', 'cat.3999.jpg', 'cat.4.jpg', 'cat.40.jpg', 'cat.41.jpg', 'cat.42.jpg', 'cat.43.jpg', 'cat.44.jpg', 'cat.45.jpg', 'cat.46.jpg', 'cat.47.jpg', 'cat.48.jpg', 'cat.49.jpg', 'cat.5.jpg', 'cat.6.jpg', 'cat.7.jpg', 'cat.8.jpg', 'cat.9.jpg', 'desktop.ini']\n"
     ]
    }
   ],
   "source": [
    "print(os.listdir('./cat'))"
   ]
  },
  {
   "cell_type": "code",
   "execution_count": 14,
   "id": "82302bfe-99b0-4217-93c0-b60f34a47af6",
   "metadata": {},
   "outputs": [
    {
     "name": "stdout",
     "output_type": "stream",
     "text": [
      "Processed 0 files successfully.\n",
      "Skipped 1101 files already processed.\n",
      "Encountered errors processing 0 files.\n"
     ]
    }
   ],
   "source": [
    "\n",
    "\n",
    "\n",
    "\n",
    "\n",
    "raw_dir = \"C:/Users/mateo/OneDrive/Desktop/Projects/_Birdsong/CatDogOrNeither_v2/backend/app/data/raw\"\n",
    "preprocess_all_images()\n"
   ]
  },
  {
   "cell_type": "code",
   "execution_count": null,
   "id": "2fdf9f7e-b494-4b7b-825a-7c5bbf7bc3cb",
   "metadata": {},
   "outputs": [],
   "source": []
  }
 ],
 "metadata": {
  "kernelspec": {
   "display_name": "Python 3 (ipykernel)",
   "language": "python",
   "name": "python3"
  },
  "language_info": {
   "codemirror_mode": {
    "name": "ipython",
    "version": 3
   },
   "file_extension": ".py",
   "mimetype": "text/x-python",
   "name": "python",
   "nbconvert_exporter": "python",
   "pygments_lexer": "ipython3",
   "version": "3.8.10"
  }
 },
 "nbformat": 4,
 "nbformat_minor": 5
}
